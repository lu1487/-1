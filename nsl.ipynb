{
 "cells": [
  {
   "cell_type": "code",
   "execution_count": null,
   "metadata": {},
   "outputs": [],
   "source": [
    "import jieba\n",
    "import re\n",
    "from collections import Counter\n",
    "cut_words=\"\"\n",
    "for line in open('紅樓夢.txt',encoding='utf-8'):\n",
    "    line.strip('\\n')\n",
    "    line = re.sub(\"[A-Za-z0-9\\：\\·\\—\\，\\。\\“ \\”]\", \"\", line)\n",
    "    seg_list=jieba.cut(line,cut_all=False)\n",
    "    cut_words+=(\" \".join(seg_list))\n",
    "all_words=cut_words.split()\n",
    "#print(all_words)\n",
    "c=Counter()\n",
    "for x in all_words:\n",
    "    if  x != '\\r\\n' and x!='?'and x!='？' and x!='~'and x!='!'and x!='！'and x!=','and x!='...':\n",
    "        c[x] += 1\n",
    "\n",
    "print('\\n詞頻統計结果：')\n",
    "x=[0]*100\n",
    "y=[0]*100\n",
    "a=0\n",
    "b=0\n",
    "for (k,v) in c.most_common(100):# 输出詞頻最高的前100个詞\n",
    "    print(\"%s:%d\"%(k,v))\n",
    "    x[a]=k\n",
    "    y[a]=v\n",
    "    a=a+1\n",
    "print(x)\n",
    "print(y)\n",
    "    \n"
   ]
  },
  {
   "cell_type": "code",
   "execution_count": 4,
   "metadata": {},
   "outputs": [
    {
     "data": {
      "image/png": "[encoded data removed]",
      "text/plain": [
       "<Figure size 432x288 with 1 Axes>"
      ]
     },
     "metadata": {
      "needs_background": "light"
     },
     "output_type": "display_data"
    }
   ],
   "source": [
    "import numpy as np\n",
    "import matplotlib.pyplot as plt\n",
    "\n",
    "votes=[135,412,397]\n",
    "N=len(votes)\n",
    "x=np.arange(N)\n",
    "width=0.25\n",
    "plt.bar(x,votes,width)\n",
    "\n",
    "plt.ylabel('The number of votes')\n",
    "plt.title('The election results')\n",
    "plt.xticks(x,('james','peter','norton'))\n",
    "plt.yticks(np.arange(0,450,30))\n",
    "plt.show()"
   ]
  },
  {
   "cell_type": "code",
   "execution_count": 21,
   "metadata": {},
   "outputs": [
    {
     "name": "stdout",
     "output_type": "stream",
     "text": [
      "有沒有 0.23174536550397923\n",
      "八卦 0.17817352202330375\n",
      "什麼 0.14324401829642772\n",
      "台灣 0.11735112976603146\n",
      "肥宅 0.08620903196753876\n",
      "為什麼 0.06931845706878927\n",
      "怎麼 0.06834566782827965\n",
      "現在 0.055548513000981514\n",
      "比較 0.04647235728177132\n",
      "怎麼辦 0.04194230573603182\n",
      "中國 0.03984904307988571\n",
      "沒有 0.03930646426257177\n",
      "還是 0.03636562286221926\n",
      "一個 0.03625325446810099\n",
      "不會 0.03542814940271824\n",
      "是不是 0.033851508009707675\n",
      "這樣 0.031774571331101266\n",
      "一樣 0.031238413564879792\n",
      "覺得 0.028836940456294993\n",
      "怎樣 0.02717388822334456\n",
      "喜歡 0.02642262524552525\n",
      "時候 0.025819046442832814\n",
      "應該 0.025244362370056506\n",
      "真的 0.024233332936522283\n",
      "... 0.02423304682299205\n",
      "為何 0.023594152239291018\n",
      "美國 0.022476889349200762\n",
      "因為 0.021969626312895417\n",
      "台灣人 0.02189899475087822\n",
      "可以 0.02099804978813157\n",
      "一堆 0.020882193979294354\n",
      "問題 0.02088125815272129\n",
      "哪個 0.020775310809695493\n",
      "幹嘛 0.02059873190465249\n",
      "感覺 0.02051204771490411\n",
      "女生 0.01933813956936227\n",
      "還有 0.018364206124471986\n",
      "這種 0.01814910091287415\n",
      "東西 0.017551943161274185\n",
      "正妹 0.016945153833035513\n",
      "其實 0.016871311745472076\n",
      "別人 0.01656952234412586\n",
      "然後 0.01640257501572157\n",
      "這麼 0.01634799608143555\n",
      "開始 0.016084732986644167\n",
      "國家 0.015317417381093677\n",
      "知道 0.015016503350854828\n",
      "的話 0.01486473327907435\n",
      "鄉民 0.013676838826966898\n",
      "到底 0.013139881168601819\n",
      "中國人 0.013053996870997044\n",
      "哪裡 0.012851733761584152\n",
      "QQ 0.012787523250659426\n",
      "這個 0.012784312725113189\n",
      "已經 0.01255315488578417\n",
      "自己 0.012463416767681106\n",
      "出來 0.012100470783764843\n",
      "那個 0.011994523440739044\n",
      "請問 0.011991312915192807\n",
      "大學 0.01186610241888959\n",
      "時間 0.011474418302248754\n",
      "那麼 0.011374892010315427\n",
      "如果 0.011323372473347202\n",
      "不是 0.011163991211195379\n",
      "變成 0.010906155280564917\n",
      "老師 0.01090294475501868\n",
      "甚麼 0.010857997397371373\n",
      "發現 0.010854786871825136\n",
      "他們 0.010671786915689664\n",
      "最後 0.010562629047117628\n",
      "就是 0.010464202295165282\n",
      "大家 0.010263384673733672\n",
      "會不會 0.01015489230274561\n",
      "有人 0.010099088491297814\n",
      "遊戲 0.01002968180644239\n",
      "手機 0.009898050259046701\n",
      "很多 0.009697993937729915\n",
      "結果 0.00962515558761661\n",
      "認真 0.009599471383246719\n",
      "老闆 0.009557734551145647\n",
      "日本 0.009517223986795156\n",
      "朋友 0.009449924320823307\n",
      "台北 0.009384302367475308\n",
      "新聞 0.00934262933954781\n",
      "一點 0.009233471470975774\n",
      "裡面 0.009223839894337066\n",
      "我們 0.009137155704588684\n",
      "電影 0.009121103076857501\n",
      "以為 0.008957366273999446\n",
      "不要 0.008838163492473206\n",
      "姆咪 0.008832155777696228\n",
      "學生 0.008755103164586556\n",
      "當然 0.0087326294857629\n",
      "韓國 0.00871657685803172\n",
      "女森 0.008578524259543556\n",
      "之後 0.008453313763240338\n",
      "看到 0.008246465456656043\n",
      "還要 0.00818684014290272\n",
      "男生 0.008064349009976159\n",
      "10 0.008035945442229612\n"
     ]
    }
   ],
   "source": [
    "import jieba\n",
    "import jieba.analyse\n",
    "\n",
    "content = open('紅樓夢.txt', 'rb').read()\n",
    "#print (\"Input：\", content)\n",
    "\n",
    "tags = jieba.analyse.extract_tags(content, topK=100, withWeight=True)\n",
    "\n",
    "for item in tags:\n",
    "    print(item[0],item[1])\n"
   ]
  },
  {
   "cell_type": "code",
   "execution_count": null,
   "metadata": {},
   "outputs": [],
   "source": [
    "print (\"df\")"
   ]
  },
  {
   "cell_type": "code",
   "execution_count": null,
   "metadata": {},
   "outputs": [],
   "source": []
  }
 ],
 "metadata": {
  "kernelspec": {
   "display_name": "Python 3",
   "language": "python",
   "name": "python3"
  },
  "language_info": {
   "codemirror_mode": {
    "name": "ipython",
    "version": 3
   },
   "file_extension": ".py",
   "mimetype": "text/x-python",
   "name": "python",
   "nbconvert_exporter": "python",
   "pygments_lexer": "ipython3",
   "version": "3.8.5"
  }
 },
 "nbformat": 4,
 "nbformat_minor": 4
}
