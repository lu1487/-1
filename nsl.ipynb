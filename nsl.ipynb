{
 "cells": [
  {
   "cell_type": "code",
   "execution_count": 19,
   "metadata": {},
   "outputs": [
    {
     "name": "stderr",
     "output_type": "stream",
     "text": [
      "IOPub data rate exceeded.\n",
      "The notebook server will temporarily stop sending output\n",
      "to the client in order to avoid crashing it.\n",
      "To change this limit, set the config variable\n",
      "`--NotebookApp.iopub_data_rate_limit`.\n",
      "\n",
      "Current values:\n",
      "NotebookApp.iopub_data_rate_limit=1000000.0 (bytes/sec)\n",
      "NotebookApp.rate_limit_window=3.0 (secs)\n",
      "\n"
     ]
    },
    {
     "name": "stdout",
     "output_type": "stream",
     "text": [
      "\n",
      "词频统计结果：\n",
      "八卦:76175\n",
      "有沒有:72173\n",
      "什麼:44608\n",
      "台灣:36547\n",
      "肥宅:26852\n",
      "可以:22300\n",
      "為什麼:21590\n",
      "是不是:21535\n",
      "怎麼:21287\n",
      "現在:17300\n",
      "真的:16012\n",
      "比較:14474\n",
      "知道:14067\n",
      "自己:13171\n",
      "怎麼辦:13066\n",
      "中國:12403\n",
      "沒有:12240\n",
      "還是:11327\n",
      "一個:11291\n",
      "不會:11034\n",
      "不是:10981\n",
      "就是:10829\n",
      "如果:10631\n",
      "一堆:10209\n",
      "這樣:9899\n",
      "一樣:9730\n",
      "覺得:8981\n",
      "女生:8513\n",
      "怎樣:8464\n",
      "到底:8415\n",
      "喜歡:8226\n",
      "時候:8052\n",
      "應該:7861\n",
      "大家:7841\n",
      "...:7603\n",
      "有人:7505\n",
      "很多:7427\n",
      "為何:7347\n",
      "日本:7073\n",
      "美國:6985\n",
      "因為:6844\n",
      "台灣人:6828\n",
      "不要:6726\n",
      "問題:6500\n",
      "哪個:6482\n",
      "幹嘛:6417\n",
      "感覺:6389\n",
      "看到:6306\n",
      "朋友:6015\n",
      "如何:5964\n"
     ]
    }
   ],
   "source": [
    "import jieba\n",
    "import re\n",
    "from collections import Counter\n",
    "cut_words=\"\"\n",
    "for line in open('紅樓夢.txt',encoding='utf-8'):\n",
    "    line.strip('\\n')\n",
    "    line = re.sub(\"[A-Za-z0-9\\：\\·\\—\\，\\。\\“ \\”]\", \"\", line)\n",
    "    seg_list=jieba.cut(line,cut_all=False)\n",
    "    cut_words+=(\" \".join(seg_list))\n",
    "all_words=cut_words.split()\n",
    "print(all_words)\n",
    "c=Counter()\n",
    "for x in all_words:\n",
    "    if len(x)>1 and x != '\\r\\n':\n",
    "        c[x] += 1\n",
    "\n",
    "print('\\n词频统计结果：')\n",
    "for (k,v) in c.most_common(50):# 输出词频最高的前两个词\n",
    "    print(\"%s:%d\"%(k,v))\n"
   ]
  },
  {
   "cell_type": "code",
   "execution_count": null,
   "metadata": {},
   "outputs": [],
   "source": []
  }
 ],
 "metadata": {
  "kernelspec": {
   "display_name": "Python 3",
   "language": "python",
   "name": "python3"
  },
  "language_info": {
   "codemirror_mode": {
    "name": "ipython",
    "version": 3
   },
   "file_extension": ".py",
   "mimetype": "text/x-python",
   "name": "python",
   "nbconvert_exporter": "python",
   "pygments_lexer": "ipython3",
   "version": "3.8.5"
  }
 },
 "nbformat": 4,
 "nbformat_minor": 4
}
